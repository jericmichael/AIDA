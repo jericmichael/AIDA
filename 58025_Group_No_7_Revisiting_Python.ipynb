{
  "nbformat": 4,
  "nbformat_minor": 0,
  "metadata": {
    "colab": {
      "name": "58025_Group_No_7_Revisiting Python.ipynb",
      "provenance": [],
      "collapsed_sections": [],
      "toc_visible": true,
      "include_colab_link": true
    },
    "kernelspec": {
      "display_name": "Python 3",
      "name": "python3"
    }
  },
  "cells": [
    {
      "cell_type": "markdown",
      "metadata": {
        "id": "view-in-github",
        "colab_type": "text"
      },
      "source": [
        "<a href=\"https://colab.research.google.com/github/jericmichael/AIDA/blob/main/58025_Group_No_7_Revisiting_Python.ipynb\" target=\"_parent\"><img src=\"https://colab.research.google.com/assets/colab-badge.svg\" alt=\"Open In Colab\"/></a>"
      ]
    },
    {
      "cell_type": "markdown",
      "metadata": {
        "id": "0K2-lMuMM-R5"
      },
      "source": [
        "#**58025 Group No.7 Revisiting Python.**\r\n",
        "#**Coding Activity #1**\r\n",
        "##Group #7\r\n",
        "###Dusaran, Jeric Michael\r\n",
        "###Lacsi, Humbert Howard\r\n",
        "###Manalo, Airon Lowell\r\n",
        "\r\n"
      ]
    },
    {
      "cell_type": "markdown",
      "metadata": {
        "id": "QnAdk8hy7Bl9"
      },
      "source": [
        "![image](https://www.python.org/static/community_logos/python-logo-inkscape.svg)\r\n",
        "\r\n",
        "#**Welcome to Python Fundamentals**\r\n",
        "\r\n",
        "###In this module, we are going to establish or review our skills in Python programming. In this notebook we are going to cover:\r\n",
        "* Variables and Data Types \r\n",
        "* Operations\r\n",
        "* Input and Output Operations\r\n",
        "* Logic Control\r\n",
        "* Iterables\r\n",
        "* Functions"
      ]
    },
    {
      "cell_type": "markdown",
      "metadata": {
        "id": "T6ABRAjTT1Ta"
      },
      "source": [
        "#Variable and Data Types\r\n",
        "##**What is a Variable**\r\n",
        "Variables are used to store information to be referenced and manipulated in a computer program. They also provide a way of labeling data with a descriptive name, so our programs can be understood more clearly by the reader and ourselves [1].\r\n",
        "\r\n",
        "##**What are the Data Types**\r\n",
        "Data types are the classification or categorization of data items. It represents the kind of value that tells what operations can be performed on a particular data [2].\r\n",
        "\r\n",
        "This data types consists of the following:\r\n",
        "\r\n",
        "* Numeric\r\n",
        "* Sequence Type\r\n",
        "* Boolean\r\n",
        "* Set\r\n",
        "* Dictionary\r\n"
      ]
    },
    {
      "cell_type": "code",
      "metadata": {
        "id": "G8JI3DTZ616F"
      },
      "source": [
        "x = 1\r\n",
        "a,b = 0, -1"
      ],
      "execution_count": null,
      "outputs": []
    },
    {
      "cell_type": "code",
      "metadata": {
        "colab": {
          "base_uri": "https://localhost:8080/"
        },
        "id": "QLT9rz2dUJ95",
        "outputId": "9e96df94-b923-4858-9f9c-f1aa3c6b89fe"
      },
      "source": [
        "type(x)"
      ],
      "execution_count": null,
      "outputs": [
        {
          "output_type": "execute_result",
          "data": {
            "text/plain": [
              "int"
            ]
          },
          "metadata": {
            "tags": []
          },
          "execution_count": 26
        }
      ]
    },
    {
      "cell_type": "code",
      "metadata": {
        "colab": {
          "base_uri": "https://localhost:8080/"
        },
        "id": "TR_rvX4SUWqx",
        "outputId": "1834acdc-7904-45f2-8788-aa1d1ca5ca0e"
      },
      "source": [
        "y = 1.0\r\n",
        "type(y)"
      ],
      "execution_count": null,
      "outputs": [
        {
          "output_type": "execute_result",
          "data": {
            "text/plain": [
              "float"
            ]
          },
          "metadata": {
            "tags": []
          },
          "execution_count": 27
        }
      ]
    },
    {
      "cell_type": "code",
      "metadata": {
        "colab": {
          "base_uri": "https://localhost:8080/"
        },
        "id": "FqV2upOiXcnC",
        "outputId": "16138862-fde7-4063-d0c7-c5e6f0fda235"
      },
      "source": [
        "x = float(x)\r\n",
        "type(x)"
      ],
      "execution_count": null,
      "outputs": [
        {
          "output_type": "execute_result",
          "data": {
            "text/plain": [
              "float"
            ]
          },
          "metadata": {
            "tags": []
          },
          "execution_count": 28
        }
      ]
    },
    {
      "cell_type": "code",
      "metadata": {
        "colab": {
          "base_uri": "https://localhost:8080/"
        },
        "id": "2tuyqwmyXiDb",
        "outputId": "6b7e2696-88c5-40d0-8bb1-4060f380edb0"
      },
      "source": [
        "s,t,u = \"0\", \"1\", 'one'\r\n",
        "type(s)"
      ],
      "execution_count": null,
      "outputs": [
        {
          "output_type": "execute_result",
          "data": {
            "text/plain": [
              "str"
            ]
          },
          "metadata": {
            "tags": []
          },
          "execution_count": 33
        }
      ]
    },
    {
      "cell_type": "code",
      "metadata": {
        "colab": {
          "base_uri": "https://localhost:8080/"
        },
        "id": "6JwWqHx3XlmB",
        "outputId": "0f2ff655-2853-4793-cc72-78c0e7287c15"
      },
      "source": [
        "s_int = int(s)\r\n",
        "s_int"
      ],
      "execution_count": null,
      "outputs": [
        {
          "output_type": "execute_result",
          "data": {
            "text/plain": [
              "0"
            ]
          },
          "metadata": {
            "tags": []
          },
          "execution_count": 30
        }
      ]
    },
    {
      "cell_type": "markdown",
      "metadata": {
        "id": "9RgPwQR4YVG5"
      },
      "source": [
        "## **What are the operations**\r\n",
        "Operators are symbols that tell the compiler to perform specific mathematical or logical manipulations [3]. In this module, we will try to cover the most commonly used operators in programming."
      ]
    },
    {
      "cell_type": "markdown",
      "metadata": {
        "id": "mvoS_zuJYbsg"
      },
      "source": [
        "### **What is an Arithmetic**\r\n",
        "\r\n",
        "An arithmetic is a function which can perform one of the following tasks: adding, subtracting, multiplying and dividing [4].<br>\r\n",
        "Below are some example of comparators in python:"
      ]
    },
    {
      "cell_type": "code",
      "metadata": {
        "id": "DSjUO0KcYoE-"
      },
      "source": [
        "x,y,z = 10,20,30"
      ],
      "execution_count": null,
      "outputs": []
    },
    {
      "cell_type": "code",
      "metadata": {
        "colab": {
          "base_uri": "https://localhost:8080/"
        },
        "id": "o_kk0XFzYX9o",
        "outputId": "647a0db8-bcba-4dee-82d8-ae8019a310ae"
      },
      "source": [
        "### Subtraction\r\n",
        "a = x - y\r\n",
        "a"
      ],
      "execution_count": null,
      "outputs": [
        {
          "output_type": "execute_result",
          "data": {
            "text/plain": [
              "-10"
            ]
          },
          "metadata": {
            "tags": []
          },
          "execution_count": 44
        }
      ]
    },
    {
      "cell_type": "code",
      "metadata": {
        "colab": {
          "base_uri": "https://localhost:8080/"
        },
        "id": "TC5oFq3MY4jk",
        "outputId": "43262fa4-5597-4531-d140-cb1dd21acfdb"
      },
      "source": [
        "### Addition\r\n",
        "b = x+y+z\r\n",
        "b\r\n"
      ],
      "execution_count": null,
      "outputs": [
        {
          "output_type": "execute_result",
          "data": {
            "text/plain": [
              "60"
            ]
          },
          "metadata": {
            "tags": []
          },
          "execution_count": 46
        }
      ]
    },
    {
      "cell_type": "code",
      "metadata": {
        "colab": {
          "base_uri": "https://localhost:8080/"
        },
        "id": "j0bGayj5Y9wr",
        "outputId": "70d21131-c13f-4a8a-8779-1573857697b2"
      },
      "source": [
        "### Division\r\n",
        "c = z/y\r\n",
        "c"
      ],
      "execution_count": null,
      "outputs": [
        {
          "output_type": "execute_result",
          "data": {
            "text/plain": [
              "1.5"
            ]
          },
          "metadata": {
            "tags": []
          },
          "execution_count": 48
        }
      ]
    },
    {
      "cell_type": "code",
      "metadata": {
        "colab": {
          "base_uri": "https://localhost:8080/"
        },
        "id": "FnMWmq5LZLEU",
        "outputId": "3da3989a-4f55-4efd-ea83-b96e75d62a0e"
      },
      "source": [
        "### Multiplication\r\n",
        "d = x*y*z\r\n",
        "d"
      ],
      "execution_count": null,
      "outputs": [
        {
          "output_type": "execute_result",
          "data": {
            "text/plain": [
              "6000"
            ]
          },
          "metadata": {
            "tags": []
          },
          "execution_count": 49
        }
      ]
    },
    {
      "cell_type": "code",
      "metadata": {
        "colab": {
          "base_uri": "https://localhost:8080/"
        },
        "id": "cQeVcFIWZd8o",
        "outputId": "64242fdb-32ad-45bc-ab08-c320128ae17d"
      },
      "source": [
        "### Floor Division\r\n",
        "g = y//x\r\n",
        "g"
      ],
      "execution_count": null,
      "outputs": [
        {
          "output_type": "execute_result",
          "data": {
            "text/plain": [
              "2"
            ]
          },
          "metadata": {
            "tags": []
          },
          "execution_count": 52
        }
      ]
    },
    {
      "cell_type": "code",
      "metadata": {
        "colab": {
          "base_uri": "https://localhost:8080/"
        },
        "id": "YLaUu6APZSzR",
        "outputId": "809b28ad-18e4-4e7d-c2ec-c5dc49d83a20"
      },
      "source": [
        "### Exponentiation\r\n",
        "c = x**3\r\n",
        "c"
      ],
      "execution_count": null,
      "outputs": [
        {
          "output_type": "execute_result",
          "data": {
            "text/plain": [
              "1000"
            ]
          },
          "metadata": {
            "tags": []
          },
          "execution_count": 53
        }
      ]
    },
    {
      "cell_type": "code",
      "metadata": {
        "colab": {
          "base_uri": "https://localhost:8080/"
        },
        "id": "uf_0sf4CZ1JT",
        "outputId": "b0d7df9c-313e-4b1e-832f-f0a06a766aa6"
      },
      "source": [
        "### Modulo\r\n",
        "m = x%z\r\n",
        "m"
      ],
      "execution_count": null,
      "outputs": [
        {
          "output_type": "execute_result",
          "data": {
            "text/plain": [
              "10"
            ]
          },
          "metadata": {
            "tags": []
          },
          "execution_count": 56
        }
      ]
    },
    {
      "cell_type": "markdown",
      "metadata": {
        "id": "afyWvb1ZaJJ6"
      },
      "source": [
        "### **What are Assignment Operations**\r\n",
        "Assignment operators are used to assign values to variables.\r\n",
        "<br>\r\n",
        "Below are some example of comparators in python:"
      ]
    },
    {
      "cell_type": "code",
      "metadata": {
        "id": "rMZ8r4WhanaE"
      },
      "source": [
        "G, H, J, K = 0, 100, 2, 2"
      ],
      "execution_count": null,
      "outputs": []
    },
    {
      "cell_type": "code",
      "metadata": {
        "colab": {
          "base_uri": "https://localhost:8080/"
        },
        "id": "IX0EbJ8RaMih",
        "outputId": "1c53f373-0401-4fa0-dec2-c8e303a8708a"
      },
      "source": [
        "### Add and Assignment\r\n",
        "### Adds the right side operand to the left side operand\r\n",
        "G += x\r\n",
        "G"
      ],
      "execution_count": null,
      "outputs": [
        {
          "output_type": "execute_result",
          "data": {
            "text/plain": [
              "10"
            ]
          },
          "metadata": {
            "tags": []
          },
          "execution_count": 65
        }
      ]
    },
    {
      "cell_type": "code",
      "metadata": {
        "colab": {
          "base_uri": "https://localhost:8080/"
        },
        "id": "aIj4hA-JaRA0",
        "outputId": "fd13d0f3-4782-4ab0-a709-635433423849"
      },
      "source": [
        "### Subtract and Assignment\r\n",
        "### Subtracts the right side operand to the left side operand\r\n",
        "H -= y\r\n",
        "H"
      ],
      "execution_count": null,
      "outputs": [
        {
          "output_type": "execute_result",
          "data": {
            "text/plain": [
              "80"
            ]
          },
          "metadata": {
            "tags": []
          },
          "execution_count": 70
        }
      ]
    },
    {
      "cell_type": "code",
      "metadata": {
        "colab": {
          "base_uri": "https://localhost:8080/"
        },
        "id": "vuuDbAbNaXgS",
        "outputId": "d0920ad2-a72b-4824-b34a-576c4cee607b"
      },
      "source": [
        "### Multiply and Assignment\r\n",
        "### Multiplies the right side operand to the left side operand\r\n",
        "\r\n",
        "J *= 2\r\n",
        "J"
      ],
      "execution_count": null,
      "outputs": [
        {
          "output_type": "execute_result",
          "data": {
            "text/plain": [
              "4"
            ]
          },
          "metadata": {
            "tags": []
          },
          "execution_count": 73
        }
      ]
    },
    {
      "cell_type": "code",
      "metadata": {
        "colab": {
          "base_uri": "https://localhost:8080/"
        },
        "id": "sGVXGduUaeAj",
        "outputId": "7e2ea3e9-f1cc-4068-ca71-291e537c59f2"
      },
      "source": [
        "### Exponential and Assignment\r\n",
        "### Computes for the exponential value of the given and assigns it on the left side operand\r\n",
        "K**= 2\r\n",
        "K"
      ],
      "execution_count": null,
      "outputs": [
        {
          "output_type": "execute_result",
          "data": {
            "text/plain": [
              "4"
            ]
          },
          "metadata": {
            "tags": []
          },
          "execution_count": 78
        }
      ]
    },
    {
      "cell_type": "markdown",
      "metadata": {
        "id": "UGXuqhVNbW7R"
      },
      "source": [
        "### **What are comparators**\r\n",
        "These operators are used for comparison. They return either true or false based on the comparison result.\r\n",
        "<br>\r\n",
        "Below are some example of comparators in python:"
      ]
    },
    {
      "cell_type": "code",
      "metadata": {
        "id": "Oj9xLaEaYeuY"
      },
      "source": [
        "x,y,z,a,b = \"Group 7\",2,3,\"Group 7\"\r\n"
      ],
      "execution_count": null,
      "outputs": []
    },
    {
      "cell_type": "code",
      "metadata": {
        "colab": {
          "base_uri": "https://localhost:8080/"
        },
        "id": "GEXm6RSsbA8Q",
        "outputId": "80b19545-79c2-4513-fb50-989ab83dcfbe"
      },
      "source": [
        "## Equality\r\n",
        "x == a"
      ],
      "execution_count": null,
      "outputs": [
        {
          "output_type": "execute_result",
          "data": {
            "text/plain": [
              "True"
            ]
          },
          "metadata": {
            "tags": []
          },
          "execution_count": 8
        }
      ]
    },
    {
      "cell_type": "code",
      "metadata": {
        "colab": {
          "base_uri": "https://localhost:8080/"
        },
        "id": "SdHk_b58bZhD",
        "outputId": "33fd1436-6e09-4b07-b4ea-755ddb321b0d"
      },
      "source": [
        "## Non-equality\r\n",
        "y != x"
      ],
      "execution_count": null,
      "outputs": [
        {
          "output_type": "execute_result",
          "data": {
            "text/plain": [
              "True"
            ]
          },
          "metadata": {
            "tags": []
          },
          "execution_count": 9
        }
      ]
    },
    {
      "cell_type": "code",
      "metadata": {
        "colab": {
          "base_uri": "https://localhost:8080/"
        },
        "id": "EnA4q50JbQB5",
        "outputId": "85ba45a0-1689-40be-da3e-7d82f3f92d9a"
      },
      "source": [
        "## Inequality\r\n",
        "\r\n",
        "## Less than\r\n",
        "f = a < x\r\n",
        "## Greater than\r\n",
        "g = z > y\r\n",
        "## Greater than or equal\r\n",
        "h = z >= y\r\n",
        "## Less than or equal\r\n",
        "i = y <= z\r\n",
        "f\r\n",
        "\r\n"
      ],
      "execution_count": null,
      "outputs": [
        {
          "output_type": "execute_result",
          "data": {
            "text/plain": [
              "False"
            ]
          },
          "metadata": {
            "tags": []
          },
          "execution_count": 17
        }
      ]
    },
    {
      "cell_type": "markdown",
      "metadata": {
        "id": "9WkfdvbfcC1Y"
      },
      "source": [
        "### **Logical**\r\n",
        "Logical operators take boolean values as input and return boolean values as output."
      ]
    },
    {
      "cell_type": "code",
      "metadata": {
        "colab": {
          "base_uri": "https://localhost:8080/"
        },
        "id": "rLe6hpkHcN-z",
        "outputId": "62ad7b1b-3a88-4628-8506-bb10d55feb1b"
      },
      "source": [
        "x is a"
      ],
      "execution_count": null,
      "outputs": [
        {
          "output_type": "execute_result",
          "data": {
            "text/plain": [
              "False"
            ]
          },
          "metadata": {
            "tags": []
          },
          "execution_count": 60
        }
      ]
    },
    {
      "cell_type": "code",
      "metadata": {
        "colab": {
          "base_uri": "https://localhost:8080/"
        },
        "id": "tr5qxHQmcO-C",
        "outputId": "1775119a-994e-45c2-e6d7-c45297193468"
      },
      "source": [
        "a is not y"
      ],
      "execution_count": null,
      "outputs": [
        {
          "output_type": "execute_result",
          "data": {
            "text/plain": [
              "True"
            ]
          },
          "metadata": {
            "tags": []
          },
          "execution_count": 61
        }
      ]
    },
    {
      "cell_type": "code",
      "metadata": {
        "colab": {
          "base_uri": "https://localhost:8080/"
        },
        "id": "3GU72N-Gcslz",
        "outputId": "a5451a79-becc-4fda-e6dd-d3c1bcb57de7"
      },
      "source": [
        "## AND\r\n",
        "x,y = True,False\r\n",
        "conj = p and q\r\n",
        "conj"
      ],
      "execution_count": null,
      "outputs": [
        {
          "output_type": "execute_result",
          "data": {
            "text/plain": [
              "False"
            ]
          },
          "metadata": {
            "tags": []
          },
          "execution_count": 76
        }
      ]
    },
    {
      "cell_type": "code",
      "metadata": {
        "colab": {
          "base_uri": "https://localhost:8080/"
        },
        "id": "ihMxcT6KcvQj",
        "outputId": "0a20c6c0-002d-472d-baa9-9b6645fb685f"
      },
      "source": [
        "## OR\r\n",
        "x,y = True,False\r\n",
        "disj = p or q\r\n",
        "disj"
      ],
      "execution_count": null,
      "outputs": [
        {
          "output_type": "execute_result",
          "data": {
            "text/plain": [
              "True"
            ]
          },
          "metadata": {
            "tags": []
          },
          "execution_count": 77
        }
      ]
    },
    {
      "cell_type": "code",
      "metadata": {
        "colab": {
          "base_uri": "https://localhost:8080/"
        },
        "id": "T-QfmeYgcyGQ",
        "outputId": "402c1397-98bd-483d-9e34-94552d251e3b"
      },
      "source": [
        "## NAND\r\n",
        "x,y = True,False\r\n",
        "nand = not(x and y)\r\n",
        "nand"
      ],
      "execution_count": null,
      "outputs": [
        {
          "output_type": "execute_result",
          "data": {
            "text/plain": [
              "True"
            ]
          },
          "metadata": {
            "tags": []
          },
          "execution_count": 73
        }
      ]
    },
    {
      "cell_type": "code",
      "metadata": {
        "colab": {
          "base_uri": "https://localhost:8080/"
        },
        "id": "2HL7SlVbc10k",
        "outputId": "68f0e441-a5bf-4f9d-979e-22706dc162cb"
      },
      "source": [
        "## XOR\r\n",
        "x,y = True,False\r\n",
        "xor = (not x and y) or (x and not y)\r\n",
        "xor\r\n"
      ],
      "execution_count": null,
      "outputs": [
        {
          "output_type": "execute_result",
          "data": {
            "text/plain": [
              "True"
            ]
          },
          "metadata": {
            "tags": []
          },
          "execution_count": 78
        }
      ]
    },
    {
      "cell_type": "code",
      "metadata": {
        "colab": {
          "base_uri": "https://localhost:8080/"
        },
        "id": "eUyj9f3x7boR",
        "outputId": "2cecedd6-bde9-4eb8-982f-773e130521df"
      },
      "source": [
        "## XNOR\r\n",
        "x,y = True,False\r\n",
        "xnor =(x and y) and not (x and y)\r\n",
        "xnor"
      ],
      "execution_count": null,
      "outputs": [
        {
          "output_type": "execute_result",
          "data": {
            "text/plain": [
              "False"
            ]
          },
          "metadata": {
            "tags": []
          },
          "execution_count": 79
        }
      ]
    },
    {
      "cell_type": "code",
      "metadata": {
        "colab": {
          "base_uri": "https://localhost:8080/"
        },
        "id": "7iGgkCqe9um9",
        "outputId": "1dc3848a-c96f-4920-856d-efc82901b2a2"
      },
      "source": [
        "## NOT\r\n",
        "x= True\r\n",
        "n= not x\r\n",
        "n"
      ],
      "execution_count": null,
      "outputs": [
        {
          "output_type": "execute_result",
          "data": {
            "text/plain": [
              "False"
            ]
          },
          "metadata": {
            "tags": []
          },
          "execution_count": 83
        }
      ]
    },
    {
      "cell_type": "markdown",
      "metadata": {
        "id": "AQx4DKafYffJ"
      },
      "source": [
        "### **I/O**\r\n",
        "#### input and output"
      ]
    },
    {
      "cell_type": "code",
      "metadata": {
        "colab": {
          "base_uri": "https://localhost:8080/"
        },
        "id": "Q-DVERG5Yk9w",
        "outputId": "725cca5f-a632-408b-f640-f2d57d927c0c"
      },
      "source": [
        "### Displays the output \"Hello World\"\r\n",
        "print(\"Hello World\")"
      ],
      "execution_count": null,
      "outputs": [
        {
          "output_type": "stream",
          "text": [
            "Hello World\n"
          ],
          "name": "stdout"
        }
      ]
    },
    {
      "cell_type": "code",
      "metadata": {
        "colab": {
          "base_uri": "https://localhost:8080/",
          "height": 54
        },
        "id": "Iw0IR7NSFs5g",
        "outputId": "c1afb3c1-7346-4974-a9ba-c4d131979ce9"
      },
      "source": [
        "### Asks for input then displays it as the output\r\n",
        "x = input(\"Please type your name:\")\r\n",
        "x"
      ],
      "execution_count": null,
      "outputs": [
        {
          "output_type": "stream",
          "text": [
            "Please type your name:airon\n"
          ],
          "name": "stdout"
        },
        {
          "output_type": "execute_result",
          "data": {
            "application/vnd.google.colaboratory.intrinsic+json": {
              "type": "string"
            },
            "text/plain": [
              "'airon'"
            ]
          },
          "metadata": {
            "tags": []
          },
          "execution_count": 88
        }
      ]
    },
    {
      "cell_type": "code",
      "metadata": {
        "id": "fS5wN51beSVF"
      },
      "source": [
        "cnt = 1"
      ],
      "execution_count": null,
      "outputs": []
    },
    {
      "cell_type": "code",
      "metadata": {
        "colab": {
          "base_uri": "https://localhost:8080/"
        },
        "id": "hKNaUXmdZdUo",
        "outputId": "feebfbd4-9e73-48bd-9be0-8296d47c9a0b"
      },
      "source": [
        "### Every time you run the program it adds 1 (+=)\r\n",
        "string = \"Hello World\"\r\n",
        "print(string, \", Current run count is:\", cnt)\r\n",
        "cnt += 1"
      ],
      "execution_count": null,
      "outputs": [
        {
          "output_type": "stream",
          "text": [
            "Hello World , Current run count is: 1\n"
          ],
          "name": "stdout"
        }
      ]
    },
    {
      "cell_type": "code",
      "metadata": {
        "colab": {
          "base_uri": "https://localhost:8080/"
        },
        "id": "15_WdzEZcOVX",
        "outputId": "5b2bbfa8-ec90-46e9-fa07-12c02e4f6689"
      },
      "source": [
        "### Another way of programming the code above\r\n",
        "print(f\"{x}, Current count is: {cnt}\")\r\n"
      ],
      "execution_count": null,
      "outputs": [
        {
          "output_type": "stream",
          "text": [
            "airon, Current count is: 2\n"
          ],
          "name": "stdout"
        }
      ]
    },
    {
      "cell_type": "code",
      "metadata": {
        "colab": {
          "base_uri": "https://localhost:8080/"
        },
        "id": "5m9XtFOPcOXo",
        "outputId": "ce143a51-918e-4824-e7c5-b8bc50447ea1"
      },
      "source": [
        "print(\"Name:\")\r\n",
        "name=(input())\r\n",
        "print(\"Order:\")\r\n",
        "order=(input())\r\n",
        "print(\"Hello {}, your order is: {}\". format (name,order))"
      ],
      "execution_count": null,
      "outputs": [
        {
          "output_type": "stream",
          "text": [
            "Name:\n",
            "airon\n",
            "Order:\n",
            "pizza\n",
            "Hello airon, your order is: pizza\n"
          ],
          "name": "stdout"
        }
      ]
    },
    {
      "cell_type": "code",
      "metadata": {
        "colab": {
          "base_uri": "https://localhost:8080/"
        },
        "id": "jiGuaCqWAR3v",
        "outputId": "df69b8fb-af74-490e-9b81-fca306871b46"
      },
      "source": [
        "## Computes for the sum\r\n",
        "x=int (input(\"Input first number:\"))\r\n",
        "y=int (input(\"Enter second number:\"))\r\n",
        "z = x+y\r\n",
        "print(\"The sum is\",z)"
      ],
      "execution_count": null,
      "outputs": [
        {
          "output_type": "stream",
          "text": [
            "Input first number:290\n",
            "Enter second number:23\n",
            "The sum is 313\n"
          ],
          "name": "stdout"
        }
      ]
    },
    {
      "cell_type": "markdown",
      "metadata": {
        "id": "i0g3EothhvqL"
      },
      "source": [
        "# **Looping Statements**\r\n",
        "### Looping statement is a series of steps or sequence that execute statement zero or more times as long as it satisfy conditions."
      ]
    },
    {
      "cell_type": "markdown",
      "metadata": {
        "id": "j4w90VAIjcFJ"
      },
      "source": [
        "## While"
      ]
    },
    {
      "cell_type": "code",
      "metadata": {
        "id": "4vtSrBPThlse",
        "colab": {
          "base_uri": "https://localhost:8080/"
        },
        "outputId": "f97578da-e294-4a92-f10c-a8660cdf35a5"
      },
      "source": [
        "## while loops\r\n",
        "names = []\r\n",
        "new_name = ' '\r\n",
        "\r\n",
        "while new_name != 'none':\r\n",
        "  new_name = input (\" Please enter names you want to add to your class: \")\r\n",
        "\r\n",
        "  if new_name != 'none':\r\n",
        "    names.append(new_name)\r\n",
        "\r\n",
        "print (names)\r\n",
        "\r\n",
        "    \r\n",
        "    \r\n",
        " \r\n",
        "    "
      ],
      "execution_count": null,
      "outputs": [
        {
          "output_type": "stream",
          "text": [
            " Please enter names you want to add to your class: humbert\n",
            " Please enter names you want to add to your class: airon\n",
            " Please enter names you want to add to your class: jeric\n",
            " Please enter names you want to add to your class: none\n",
            "['humbert', 'airon', 'jeric']\n"
          ],
          "name": "stdout"
        }
      ]
    },
    {
      "cell_type": "code",
      "metadata": {
        "id": "TLSJIv8CfGVW",
        "colab": {
          "base_uri": "https://localhost:8080/"
        },
        "outputId": "2a98b4c6-f069-4327-c179-e0f70c1b4a57"
      },
      "source": [
        "def buy_icecream():\r\n",
        "  print (\"\\n Here's you Ice Cream! Enjoy! \")\r\n",
        "\r\n",
        "def buy_candy():\r\n",
        "  print(\"\\n Here's your candy! Enjoy! \")\r\n",
        "\r\n",
        "def buy_chocolates():\r\n",
        "  print (\"\\n Here's your chocolate bar! Enjoy! \")\r\n",
        "\r\n",
        "print (\"\\n Please enter what you want to buy: \")\r\n",
        "choice = ''\r\n",
        "\r\n",
        "while choice != '4':\r\n",
        "  print(\"\\n [1] Enter 1 to buy ice cream. \")\r\n",
        "  print(\"\\n [2] Enter 2 to buy candy. \")\r\n",
        "  print(\"\\n [3] Enter 3 to buy chocolate. \")\r\n",
        "  print(\"\\n [4] Enter 4 to quit. \")\r\n",
        "\r\n",
        "  choice = input (\"\\n What is you choice?: \")\r\n",
        "\r\n",
        "  if choice == '1':\r\n",
        "    buy_icecream()\r\n",
        "  elif choice =='2':\r\n",
        "    buy_candy()\r\n",
        "  elif choice == '3':\r\n",
        "    buy_chocolates()\r\n",
        "  elif choice == '4':\r\n",
        "    print (\"\\n Thankyou! Please come back again\")\r\n",
        "  else:\r\n",
        "    print(\"\\n Please enter valid input. Try again...\")\r\n",
        "\r\n",
        "print (\"...\")\r\n"
      ],
      "execution_count": null,
      "outputs": [
        {
          "output_type": "stream",
          "text": [
            "\n",
            " Please enter what you want to buy: \n",
            "\n",
            " [1] Enter 1 to buy ice cream. \n",
            "\n",
            " [2] Enter 2 to buy candy. \n",
            "\n",
            " [3] Enter 3 to buy chocolate. \n",
            "\n",
            " [4] Enter 4 to quit. \n",
            "\n",
            " What is you choice?: 1\n",
            "\n",
            " Here's you Ice Cream! Enjoy! \n",
            "\n",
            " [1] Enter 1 to buy ice cream. \n",
            "\n",
            " [2] Enter 2 to buy candy. \n",
            "\n",
            " [3] Enter 3 to buy chocolate. \n",
            "\n",
            " [4] Enter 4 to quit. \n",
            "\n",
            " What is you choice?: 4\n",
            "\n",
            " Thankyou! Please come back again\n",
            "...\n"
          ],
          "name": "stdout"
        }
      ]
    },
    {
      "cell_type": "markdown",
      "metadata": {
        "id": "Qz6AH6jRjfUg"
      },
      "source": [
        "## For"
      ]
    },
    {
      "cell_type": "code",
      "metadata": {
        "id": "q0DUwfRkjZY7",
        "colab": {
          "base_uri": "https://localhost:8080/"
        },
        "outputId": "69714601-5f15-4342-cac4-1cf09c4334a2"
      },
      "source": [
        "n = input (\"Input how many variables: \")\r\n",
        "l = list ()\r\n",
        "\r\n",
        "for i in range (0, int(n)):\r\n",
        "  x = input (\"Input Variable: \")\r\n",
        "  l.append(x)\r\n",
        "\r\n",
        "for i in range (0,len(l)):\r\n",
        "  print (l[i])"
      ],
      "execution_count": null,
      "outputs": [
        {
          "output_type": "stream",
          "text": [
            "Input how many variables: 3\n",
            "Input Variable: 12\n",
            "Input Variable: 12\n",
            "Input Variable: 2\n",
            "12\n",
            "12\n",
            "2\n"
          ],
          "name": "stdout"
        }
      ]
    },
    {
      "cell_type": "markdown",
      "metadata": {
        "id": "N6jTqTZojnSg"
      },
      "source": [
        "# **Flow Control**"
      ]
    },
    {
      "cell_type": "markdown",
      "metadata": {
        "id": "uhnsV2CijrWQ"
      },
      "source": [
        "## **What is a Conditional Statements?**\r\n",
        "### This is the ability to test a variable against a value and act in one way if the condition is met by the variable or another way if not. They are also commonly called by programmers if statements. [5]"
      ]
    },
    {
      "cell_type": "code",
      "metadata": {
        "colab": {
          "base_uri": "https://localhost:8080/"
        },
        "id": "seJplrJojmTg",
        "outputId": "85356994-d14c-48a7-8618-4305ba77248c"
      },
      "source": [
        "rank = input(\"What is your rank in valorant: \")\r\n",
        "if rank in [\"Radiant\",\"radiant\"]:\r\n",
        "  print(\"You have a high elo\")\r\n",
        "  if rank in [\"Radiant\",\"radiant\"]:\r\n",
        "     int(input(\"What is your position in leaderboard?: \"))\r\n",
        "     print(\"Congrats you are a hardcore gamer\")\r\n",
        "elif rank in [\"Immortal\",\"immortal\"]:\r\n",
        "  print(\"You have a high elo\")\r\n",
        "elif rank in [\"Diamond\",\"diamond\"]:\r\n",
        "  print(\"You have a high elo\")\r\n",
        "else:\r\n",
        "  print(\"You have low Elo\")"
      ],
      "execution_count": null,
      "outputs": [
        {
          "output_type": "stream",
          "text": [
            "What is your rank in valorant: bronze\n",
            "You have low Elo\n"
          ],
          "name": "stdout"
        }
      ]
    },
    {
      "cell_type": "markdown",
      "metadata": {
        "id": "tlnG1OKilNLo"
      },
      "source": [
        "# **Functions**\r\n",
        "## A function is a block of code which only runs when it is called. [6]\r\n"
      ]
    },
    {
      "cell_type": "code",
      "metadata": {
        "id": "1iMUEipnlUKY",
        "colab": {
          "base_uri": "https://localhost:8080/"
        },
        "outputId": "7615f243-db86-4bb6-b6e8-8c78181f8a7a"
      },
      "source": [
        "def call(name):\r\n",
        "  print(\"Hello \" + name)\r\n",
        "call('jeric')"
      ],
      "execution_count": null,
      "outputs": [
        {
          "output_type": "stream",
          "text": [
            "Hello jeric\n"
          ],
          "name": "stdout"
        }
      ]
    },
    {
      "cell_type": "markdown",
      "metadata": {
        "id": "2_tDT01oFEGQ"
      },
      "source": [
        "### **Lambda Functions**"
      ]
    },
    {
      "cell_type": "code",
      "metadata": {
        "colab": {
          "base_uri": "https://localhost:8080/"
        },
        "id": "tmmBNW9pFg-4",
        "outputId": "d2ebb0ad-c75c-44e2-ed1b-5e39baebbc55"
      },
      "source": [
        "x = lambda a : a + 10\r\n",
        "print(x(10))"
      ],
      "execution_count": null,
      "outputs": [
        {
          "output_type": "stream",
          "text": [
            "20\n"
          ],
          "name": "stdout"
        }
      ]
    },
    {
      "cell_type": "code",
      "metadata": {
        "colab": {
          "base_uri": "https://localhost:8080/"
        },
        "id": "_9KYzCrIFCpI",
        "outputId": "4eb399eb-79ac-44ec-b9b5-c5534d6c9f57"
      },
      "source": [
        "x = lambda a, b, c : a + b + c\r\n",
        "print(x(2, 3, 5))"
      ],
      "execution_count": null,
      "outputs": [
        {
          "output_type": "stream",
          "text": [
            "10\n"
          ],
          "name": "stdout"
        }
      ]
    },
    {
      "cell_type": "code",
      "metadata": {
        "colab": {
          "base_uri": "https://localhost:8080/"
        },
        "id": "a2uwKwqFFafn",
        "outputId": "1938e30e-2e06-44c6-8025-70b7f5d1ea3f"
      },
      "source": [
        "g = lambda y: 25+(y*y)-5\r\n",
        "print(g(2))"
      ],
      "execution_count": null,
      "outputs": [
        {
          "output_type": "stream",
          "text": [
            "24\n"
          ],
          "name": "stdout"
        }
      ]
    },
    {
      "cell_type": "markdown",
      "metadata": {
        "id": "OyUpzcEzK_YO"
      },
      "source": [
        "###**Coding Activity:**"
      ]
    },
    {
      "cell_type": "code",
      "metadata": {
        "id": "Rjm9RFrGlMgA"
      },
      "source": [
        "'''\r\n",
        "Create a grade calculator that computes for the semestral grade of a course.\r\n",
        "Students could type their names, the name of the course, then their prelim,\r\n",
        "midterm, and final grade.\r\n",
        "The program should print the semestral grade in 2 decimal points and should\r\n",
        "display the following emojis depending on the situation:\r\n",
        "happy - when grade is greater than 70.00\r\n",
        "laughing - when grade is exactly 70.00\r\n",
        "sad - when grade is below 70.00\r\n",
        "'''\r\n",
        "happy, lol, sad = \"\\U0001F600\",\"\\U0001F923\",\"\\U0001F619\""
      ],
      "execution_count": null,
      "outputs": []
    },
    {
      "cell_type": "markdown",
      "metadata": {
        "id": "kmSEMj0SLC-T"
      },
      "source": [
        "###**Answer:**\r\n"
      ]
    },
    {
      "cell_type": "code",
      "metadata": {
        "id": "FXTvm9SCKbyV"
      },
      "source": [
        "name=(input(\"Name:\"))\r\n",
        "course=(input(\"course:\"))\r\n",
        "print(\"Hello\",name,\"from\",course)\r\n",
        "prelim = float(input(\"Enter your Prelim Grade: \"))\r\n",
        "midterm = float(input(\"Enter your Midterm Grade: \"))\r\n",
        "finals = float(input(\"Enter your finals Grade: \"))\r\n",
        "\r\n",
        "tot = (prelim * .30) + (midterm * .30) + (finals *.40)\r\n",
        "formattedtot=format(tot,\".2f\")\r\n",
        "\r\n",
        "if tot>=70:\r\n",
        "    print(\"Your Semestral Grade is:\",formattedtot,\"\\U0001F600\")\r\n",
        "elif tot== 70:\r\n",
        "    print(\"Your Semestral Grade is:\",formattedtot,\"\\U0001F923\")\r\n",
        "elif tot < 70:\r\n",
        "    print(\"Your Semestral Grade is:\",formattedtot,\"\\U0001F643\")"
      ],
      "execution_count": null,
      "outputs": []
    },
    {
      "cell_type": "markdown",
      "metadata": {
        "id": "ztkUgEvbz7YA"
      },
      "source": [
        "##References\r\n",
        "[1] Launch School (2021), *Variable*. [Online](https://launchschool.com/books/ruby/read/variables)\r\n",
        "\r\n",
        "[2] Geeksforgeeks (2020), *Data Types*. [Online](https://www.geeksforgeeks.org/python-data-types/#:~:text=Data%20types%20are%20the%20classification,(object)%20of%20these%20classes).\r\n",
        "\r\n",
        "[3] Hackerearth (2021), *Basic Operators*. [Online](https://www.hackerearth.com/practice/basic-programming/operators/basics-of-operators/tutorial/)\r\n",
        "\r\n",
        "[4] Wikibooks (2020), *Fundamentals of Programming: Arithmetic operations*. 2020. [Online](https://en.wikibooks.org/wiki/A-level_Computing/AQA/Paper_1/Fundamentals_of_programming/Arithmetic_operations#:~:text=Boolean%20operations%20%E2%86%92,(%2B%2C%2D%2C%2F%2C*)\r\n",
        "\r\n",
        "[5] OpenTechSchool (2014), *Conditional statements*. [Online](https://opentechschool.github.io/python-beginners/en/conditionals.html).\r\n",
        "\r\n",
        "[6] W3Schools (2021). *Python Functions*. [Online](https://www.w3schools.com/python/python_functions.asp).\r\n"
      ]
    },
    {
      "cell_type": "code",
      "metadata": {
        "id": "AhUNTeyKHW2t"
      },
      "source": [
        ""
      ],
      "execution_count": null,
      "outputs": []
    }
  ]
}